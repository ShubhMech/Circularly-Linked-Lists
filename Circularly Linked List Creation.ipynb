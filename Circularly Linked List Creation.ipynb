{
 "cells": [
  {
   "cell_type": "code",
   "execution_count": 1,
   "id": "3cb2ce1f-a624-4477-8f54-4711075a3114",
   "metadata": {},
   "outputs": [],
   "source": [
    "class Nodes:\n",
    "    def __init__(self,value):\n",
    "        self.value= value\n",
    "        self.next=None\n",
    "        "
   ]
  },
  {
   "cell_type": "code",
   "execution_count": 3,
   "id": "ddfdeb47-edf9-4d14-ad74-20178328f561",
   "metadata": {},
   "outputs": [],
   "source": [
    "class CircularLinkedList:\n",
    "    def __init__(self):\n",
    "        self.head=None\n",
    "        self.tail=None\n",
    "        "
   ]
  },
  {
   "cell_type": "code",
   "execution_count": 4,
   "id": "1c371e2f-85ef-4e69-ae13-f1420a3440c8",
   "metadata": {},
   "outputs": [],
   "source": [
    "node1= Nodes(1)"
   ]
  },
  {
   "cell_type": "code",
   "execution_count": 6,
   "id": "2b577bc8-31b2-400a-95e7-1cd943f48f37",
   "metadata": {},
   "outputs": [],
   "source": [
    "node1.next"
   ]
  },
  {
   "cell_type": "code",
   "execution_count": 7,
   "id": "e8c576b5-3b2c-4480-9117-7abc353a11e2",
   "metadata": {},
   "outputs": [],
   "source": [
    "ob1=CircularLinkedList()\n",
    "ob1.head=node1\n",
    "ob1.tail=node1\n",
    "node1.next=node1"
   ]
  },
  {
   "cell_type": "code",
   "execution_count": 8,
   "id": "537f76d2-a1aa-4d76-907c-fdab1f97b68d",
   "metadata": {},
   "outputs": [
    {
     "data": {
      "text/plain": [
       "1"
      ]
     },
     "execution_count": 8,
     "metadata": {},
     "output_type": "execute_result"
    }
   ],
   "source": [
    "node1.next.value"
   ]
  },
  {
   "cell_type": "code",
   "execution_count": null,
   "id": "7a1d99fc-216b-4940-a02d-cdd5ea32b528",
   "metadata": {},
   "outputs": [],
   "source": []
  }
 ],
 "metadata": {
  "kernelspec": {
   "display_name": "Python 3",
   "language": "python",
   "name": "python3"
  },
  "language_info": {
   "codemirror_mode": {
    "name": "ipython",
    "version": 3
   },
   "file_extension": ".py",
   "mimetype": "text/x-python",
   "name": "python",
   "nbconvert_exporter": "python",
   "pygments_lexer": "ipython3",
   "version": "3.8.5"
  }
 },
 "nbformat": 4,
 "nbformat_minor": 5
}
