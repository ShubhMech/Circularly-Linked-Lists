{
 "cells": [
  {
   "cell_type": "code",
   "execution_count": 1,
   "id": "3cb2ce1f-a624-4477-8f54-4711075a3114",
   "metadata": {},
   "outputs": [],
   "source": [
    "class Nodes:\n",
    "    def __init__(self,value):\n",
    "        self.value= value\n",
    "        self.next=None\n",
    "        "
   ]
  },
  {
   "cell_type": "code",
   "execution_count": 3,
   "id": "ddfdeb47-edf9-4d14-ad74-20178328f561",
   "metadata": {},
   "outputs": [],
   "source": [
    "class CircularLinkedList:\n",
    "    def __init__(self):\n",
    "        self.head=None\n",
    "        self.tail=None\n",
    "        "
   ]
  },
  {
   "cell_type": "code",
   "execution_count": 4,
   "id": "1c371e2f-85ef-4e69-ae13-f1420a3440c8",
   "metadata": {},
   "outputs": [],
   "source": [
    "node1= Nodes(1)"
   ]
  },
  {
   "cell_type": "code",
   "execution_count": 6,
   "id": "2b577bc8-31b2-400a-95e7-1cd943f48f37",
   "metadata": {},
   "outputs": [],
   "source": [
    "node1.next"
   ]
  },
  {
   "cell_type": "code",
   "execution_count": null,
   "id": "e8c576b5-3b2c-4480-9117-7abc353a11e2",
   "metadata": {},
   "outputs": [],
   "source": [
    "ob1=CircularLinkedList()\n",
    "ob1.head="
   ]
  }
 ],
 "metadata": {
  "kernelspec": {
   "display_name": "Python 3",
   "language": "python",
   "name": "python3"
  },
  "language_info": {
   "codemirror_mode": {
    "name": "ipython",
    "version": 3
   },
   "file_extension": ".py",
   "mimetype": "text/x-python",
   "name": "python",
   "nbconvert_exporter": "python",
   "pygments_lexer": "ipython3",
   "version": "3.8.5"
  }
 },
 "nbformat": 4,
 "nbformat_minor": 5
}
