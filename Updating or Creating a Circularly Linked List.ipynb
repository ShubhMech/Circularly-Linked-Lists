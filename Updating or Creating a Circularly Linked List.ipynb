{
 "cells": [
  {
   "cell_type": "code",
   "execution_count": 1,
   "id": "014f1a96-a569-47b5-b268-a27b63393eaf",
   "metadata": {},
   "outputs": [],
   "source": [
    "class Nodes:\n",
    "    def __init__(self,value):\n",
    "        self.value= value\n",
    "        self.next=None\n",
    "\n",
    "class CircularLinkedList:\n",
    "    def __init__(self):\n",
    "        self.head=None\n",
    "        self.tail=None\n",
    "        "
   ]
  },
  {
   "cell_type": "code",
   "execution_count": 135,
   "id": "e9571e5f-65b1-4eb8-bb69-7b00e6af8aa7",
   "metadata": {},
   "outputs": [],
   "source": [
    "def insertion(ob,value, pos=-1):\n",
    "    if ob.head==None:\n",
    "        node1=Nodes(value)\n",
    "        ob.head=node1\n",
    "        ob.tail=node1\n",
    "        node1.next=node1\n",
    "        \n",
    "    elif pos==0:\n",
    "        node1=Nodes(value)\n",
    "        node1.next=ob.head.next\n",
    "#         ob.tail.next=node1\n",
    "        ob.head= node1\n",
    "    \n",
    "        \n",
    "    elif pos==-1:\n",
    "        node_0=Nodes(value)\n",
    "        ob.tail.next=node_0\n",
    "        ob.tail=node_0\n",
    "        node_0.next=ob.head\n",
    "#         ob.tail=node_0\n",
    "        \n",
    "    else:\n",
    "        temp=ob.head\n",
    "        i=0\n",
    "        while(i<pos-1):\n",
    "            temp=temp.next\n",
    "            i += 1\n",
    "            \n",
    "        nex_=temp.next\n",
    "        node_mid=Nodes(value)\n",
    "        node_mid.next=nex_\n",
    "        temp.next=node_mid\n",
    "        \n",
    "        \n",
    "        \n",
    "        \n",
    "        "
   ]
  },
  {
   "cell_type": "code",
   "execution_count": 136,
   "id": "1ca2ddde-919e-40c3-aa64-e80763b9f48e",
   "metadata": {},
   "outputs": [],
   "source": [
    "\n",
    "ob1= CircularLinkedList()"
   ]
  },
  {
   "cell_type": "code",
   "execution_count": 137,
   "id": "cc30d346-7525-4bea-8d69-805ef066b2e1",
   "metadata": {},
   "outputs": [],
   "source": [
    "ob2= insertion(ob1,1,0)"
   ]
  },
  {
   "cell_type": "code",
   "execution_count": 138,
   "id": "f1d9fd21-c2d5-4302-a5c4-f841e0f60c9f",
   "metadata": {},
   "outputs": [
    {
     "data": {
      "text/plain": [
       "<__main__.Nodes at 0x13916120970>"
      ]
     },
     "execution_count": 138,
     "metadata": {},
     "output_type": "execute_result"
    }
   ],
   "source": [
    "ob1.head"
   ]
  },
  {
   "cell_type": "code",
   "execution_count": 139,
   "id": "e1738818-a8a4-4036-a6b8-bfbbb8a60ea4",
   "metadata": {},
   "outputs": [
    {
     "data": {
      "text/plain": [
       "1"
      ]
     },
     "execution_count": 139,
     "metadata": {},
     "output_type": "execute_result"
    }
   ],
   "source": [
    "ob1.head.value"
   ]
  },
  {
   "cell_type": "code",
   "execution_count": 140,
   "id": "99582ab6-e82e-4db5-8149-cd7437839828",
   "metadata": {},
   "outputs": [
    {
     "data": {
      "text/plain": [
       "<__main__.Nodes at 0x13916120970>"
      ]
     },
     "execution_count": 140,
     "metadata": {},
     "output_type": "execute_result"
    }
   ],
   "source": [
    "ob1.head.next"
   ]
  },
  {
   "cell_type": "code",
   "execution_count": 141,
   "id": "ec0e28ae-a1f1-4479-a3b0-1cc4d253f816",
   "metadata": {},
   "outputs": [
    {
     "data": {
      "text/plain": [
       "1"
      ]
     },
     "execution_count": 141,
     "metadata": {},
     "output_type": "execute_result"
    }
   ],
   "source": [
    "ob1.head.next.value"
   ]
  },
  {
   "cell_type": "code",
   "execution_count": 142,
   "id": "6754b3e4-25d9-4e2c-80b8-bee08b1fa65d",
   "metadata": {},
   "outputs": [
    {
     "data": {
      "text/plain": [
       "1"
      ]
     },
     "execution_count": 142,
     "metadata": {},
     "output_type": "execute_result"
    }
   ],
   "source": [
    "ob1.head.value"
   ]
  },
  {
   "cell_type": "code",
   "execution_count": 143,
   "id": "36c98282-248b-47b2-9b1b-5fbd8ff46d6a",
   "metadata": {},
   "outputs": [],
   "source": [
    "ob2= insertion(ob1,2,0)"
   ]
  },
  {
   "cell_type": "code",
   "execution_count": 144,
   "id": "71a87cc4-f685-48fc-b021-a381416c627e",
   "metadata": {},
   "outputs": [
    {
     "data": {
      "text/plain": [
       "<__main__.Nodes at 0x13916115e50>"
      ]
     },
     "execution_count": 144,
     "metadata": {},
     "output_type": "execute_result"
    }
   ],
   "source": [
    "ob1.head"
   ]
  },
  {
   "cell_type": "code",
   "execution_count": 145,
   "id": "98cc124e-c770-4b20-a5e5-11e24df896a8",
   "metadata": {},
   "outputs": [
    {
     "data": {
      "text/plain": [
       "2"
      ]
     },
     "execution_count": 145,
     "metadata": {},
     "output_type": "execute_result"
    }
   ],
   "source": [
    "ob1.head.value"
   ]
  },
  {
   "cell_type": "code",
   "execution_count": 146,
   "id": "34a4fece-8dd7-43d9-b58c-18ce87130309",
   "metadata": {},
   "outputs": [
    {
     "data": {
      "text/plain": [
       "<__main__.Nodes at 0x13916120970>"
      ]
     },
     "execution_count": 146,
     "metadata": {},
     "output_type": "execute_result"
    }
   ],
   "source": [
    "ob1.head.next"
   ]
  },
  {
   "cell_type": "code",
   "execution_count": 147,
   "id": "1940c7f7-515e-48a3-a4f2-c7a5e367b649",
   "metadata": {},
   "outputs": [
    {
     "data": {
      "text/plain": [
       "1"
      ]
     },
     "execution_count": 147,
     "metadata": {},
     "output_type": "execute_result"
    }
   ],
   "source": [
    "ob1.head.next.value"
   ]
  },
  {
   "cell_type": "code",
   "execution_count": 148,
   "id": "029b9b15-d632-459b-84c9-4c4ba0124c23",
   "metadata": {},
   "outputs": [
    {
     "data": {
      "text/plain": [
       "1"
      ]
     },
     "execution_count": 148,
     "metadata": {},
     "output_type": "execute_result"
    }
   ],
   "source": [
    "ob1.head.next.value\n"
   ]
  },
  {
   "cell_type": "code",
   "execution_count": 149,
   "id": "ebcab3fd-3098-4262-89df-be80fe175e01",
   "metadata": {},
   "outputs": [
    {
     "data": {
      "text/plain": [
       "1"
      ]
     },
     "execution_count": 149,
     "metadata": {},
     "output_type": "execute_result"
    }
   ],
   "source": [
    "ob1.head.next.next.next.value"
   ]
  },
  {
   "cell_type": "code",
   "execution_count": 150,
   "id": "c11fd571-5fff-4621-b5d2-41b8ca4ae0f5",
   "metadata": {},
   "outputs": [
    {
     "data": {
      "text/plain": [
       "1"
      ]
     },
     "execution_count": 150,
     "metadata": {},
     "output_type": "execute_result"
    }
   ],
   "source": [
    "ob1.tail.value"
   ]
  },
  {
   "cell_type": "code",
   "execution_count": 151,
   "id": "85937f1c-39be-41de-9478-7617a743cef2",
   "metadata": {},
   "outputs": [],
   "source": [
    "ob2= insertion(ob1,12,-1)"
   ]
  },
  {
   "cell_type": "code",
   "execution_count": 152,
   "id": "197b0927-490b-4851-84f4-e9bc5a2e06e0",
   "metadata": {},
   "outputs": [
    {
     "data": {
      "text/plain": [
       "<__main__.Nodes at 0x13916115e50>"
      ]
     },
     "execution_count": 152,
     "metadata": {},
     "output_type": "execute_result"
    }
   ],
   "source": [
    "ob1.head"
   ]
  },
  {
   "cell_type": "code",
   "execution_count": 153,
   "id": "56b74c19-334f-4aad-8e84-48c563f4b1e3",
   "metadata": {},
   "outputs": [
    {
     "data": {
      "text/plain": [
       "2"
      ]
     },
     "execution_count": 153,
     "metadata": {},
     "output_type": "execute_result"
    }
   ],
   "source": [
    "ob1.head.value"
   ]
  },
  {
   "cell_type": "code",
   "execution_count": 154,
   "id": "87204a1b-f84b-4285-bd83-592ad78200f5",
   "metadata": {},
   "outputs": [
    {
     "data": {
      "text/plain": [
       "1"
      ]
     },
     "execution_count": 154,
     "metadata": {},
     "output_type": "execute_result"
    }
   ],
   "source": [
    "ob1.head.next.value"
   ]
  },
  {
   "cell_type": "code",
   "execution_count": 155,
   "id": "a44f123b-e727-426b-91dd-09964a753b2f",
   "metadata": {},
   "outputs": [
    {
     "data": {
      "text/plain": [
       "12"
      ]
     },
     "execution_count": 155,
     "metadata": {},
     "output_type": "execute_result"
    }
   ],
   "source": [
    "ob1.head.next.next.value"
   ]
  },
  {
   "cell_type": "code",
   "execution_count": 156,
   "id": "7b9770df-57b5-48ec-958c-ead5d143b31d",
   "metadata": {},
   "outputs": [
    {
     "data": {
      "text/plain": [
       "2"
      ]
     },
     "execution_count": 156,
     "metadata": {},
     "output_type": "execute_result"
    }
   ],
   "source": [
    "ob1.head.next.next.next.value"
   ]
  },
  {
   "cell_type": "code",
   "execution_count": 157,
   "id": "f3ca527a-9672-42d9-8905-041f67724314",
   "metadata": {},
   "outputs": [
    {
     "data": {
      "text/plain": [
       "12"
      ]
     },
     "execution_count": 157,
     "metadata": {},
     "output_type": "execute_result"
    }
   ],
   "source": [
    "ob1.tail.value"
   ]
  },
  {
   "cell_type": "code",
   "execution_count": 158,
   "id": "9ab83e82-6030-4c39-af14-7bf1a06c429c",
   "metadata": {},
   "outputs": [
    {
     "data": {
      "text/plain": [
       "2"
      ]
     },
     "execution_count": 158,
     "metadata": {},
     "output_type": "execute_result"
    }
   ],
   "source": [
    "ob1.tail.next.value"
   ]
  },
  {
   "cell_type": "code",
   "execution_count": 159,
   "id": "be3a4501-b50d-4ca0-b681-54db2847ee25",
   "metadata": {},
   "outputs": [],
   "source": [
    "ob2= insertion(ob1,120,2)"
   ]
  },
  {
   "cell_type": "code",
   "execution_count": 160,
   "id": "b9c8139c-4fbb-4b29-b1e3-5e0b12b9e0b6",
   "metadata": {},
   "outputs": [
    {
     "data": {
      "text/plain": [
       "120"
      ]
     },
     "execution_count": 160,
     "metadata": {},
     "output_type": "execute_result"
    }
   ],
   "source": [
    "ob1.head.next.next.value"
   ]
  },
  {
   "cell_type": "code",
   "execution_count": 163,
   "id": "a5503bdc-a715-495d-b420-1c65d27c4130",
   "metadata": {},
   "outputs": [
    {
     "data": {
      "text/plain": [
       "120"
      ]
     },
     "execution_count": 163,
     "metadata": {},
     "output_type": "execute_result"
    }
   ],
   "source": [
    "ob1.head.next.next.value"
   ]
  },
  {
   "cell_type": "code",
   "execution_count": null,
   "id": "1d5dcbc0-d63a-4aa5-993e-7c88880579f5",
   "metadata": {},
   "outputs": [],
   "source": []
  },
  {
   "cell_type": "code",
   "execution_count": null,
   "id": "31fb1c57-5848-4725-a1e7-03262737057f",
   "metadata": {},
   "outputs": [],
   "source": []
  },
  {
   "cell_type": "code",
   "execution_count": null,
   "id": "35107149-c020-46dd-b607-e69f93511939",
   "metadata": {},
   "outputs": [],
   "source": []
  },
  {
   "cell_type": "code",
   "execution_count": null,
   "id": "55cf2ee5-b0bb-4e5d-8393-5edbdd7abe60",
   "metadata": {},
   "outputs": [],
   "source": []
  },
  {
   "cell_type": "code",
   "execution_count": null,
   "id": "208b714b-e980-42b4-8170-e3976b9cb3c1",
   "metadata": {},
   "outputs": [],
   "source": []
  },
  {
   "cell_type": "code",
   "execution_count": null,
   "id": "57db3c55-2f8f-41d4-8832-a1b66370d099",
   "metadata": {},
   "outputs": [],
   "source": []
  },
  {
   "cell_type": "code",
   "execution_count": null,
   "id": "768f0135-2e76-41da-b8dc-406766627129",
   "metadata": {},
   "outputs": [],
   "source": []
  },
  {
   "cell_type": "code",
   "execution_count": null,
   "id": "cd8f6f40-9e38-4d4b-8cfa-e642756fdeb3",
   "metadata": {},
   "outputs": [],
   "source": []
  },
  {
   "cell_type": "code",
   "execution_count": null,
   "id": "cd635133-5cc4-4f2e-bee6-203e6142e575",
   "metadata": {},
   "outputs": [],
   "source": []
  },
  {
   "cell_type": "code",
   "execution_count": null,
   "id": "52a25084-f0c1-468e-87b9-e12308457e3b",
   "metadata": {},
   "outputs": [],
   "source": []
  },
  {
   "cell_type": "code",
   "execution_count": null,
   "id": "72cd8f7b-680d-45d7-a6ae-0efc908504ef",
   "metadata": {},
   "outputs": [],
   "source": []
  },
  {
   "cell_type": "code",
   "execution_count": null,
   "id": "541c8195-e374-4ddd-8368-4f53fd8617fe",
   "metadata": {},
   "outputs": [],
   "source": []
  },
  {
   "cell_type": "code",
   "execution_count": null,
   "id": "dfe04820-ef23-4afb-b024-56c47d1eac93",
   "metadata": {},
   "outputs": [],
   "source": []
  }
 ],
 "metadata": {
  "kernelspec": {
   "display_name": "Python 3",
   "language": "python",
   "name": "python3"
  },
  "language_info": {
   "codemirror_mode": {
    "name": "ipython",
    "version": 3
   },
   "file_extension": ".py",
   "mimetype": "text/x-python",
   "name": "python",
   "nbconvert_exporter": "python",
   "pygments_lexer": "ipython3",
   "version": "3.8.5"
  }
 },
 "nbformat": 4,
 "nbformat_minor": 5
}
