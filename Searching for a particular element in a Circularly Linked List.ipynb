{
 "cells": [
  {
   "cell_type": "code",
   "execution_count": 1,
   "id": "450c800b-ff27-42cc-90b9-3a596d9b292f",
   "metadata": {},
   "outputs": [],
   "source": [
    "class Nodes:\n",
    "    def __init__(self,value):\n",
    "        self.value= value\n",
    "        self.next=None\n",
    "\n",
    "class CircularLinkedList:\n",
    "    def __init__(self):\n",
    "        self.head=None\n",
    "        self.tail=None\n",
    "        \n",
    "        \n",
    "def insertion(ob,value, pos=-1):\n",
    "    if ob.head==None:\n",
    "        node1=Nodes(value)\n",
    "        ob.head=node1\n",
    "        ob.tail=node1\n",
    "        node1.next=node1\n",
    "        \n",
    "    elif pos==0:\n",
    "        node1=Nodes(value)\n",
    "        node1.next=ob.head.next\n",
    "#         ob.tail.next=node1\n",
    "        ob.head= node1\n",
    "    \n",
    "        \n",
    "    elif pos==-1:\n",
    "        node_0=Nodes(value)\n",
    "        ob.tail.next=node_0\n",
    "        ob.tail=node_0\n",
    "        node_0.next=ob.head\n",
    "#         ob.tail=node_0\n",
    "        \n",
    "    else:\n",
    "        temp=ob.head\n",
    "        i=0\n",
    "        while(i<pos-1):\n",
    "            temp=temp.next\n",
    "            i += 1\n",
    "            \n",
    "        nex_=temp.next\n",
    "        node_mid=Nodes(value)\n",
    "        node_mid.next=nex_\n",
    "        temp.next=node_mid\n",
    "        \n",
    "        \n",
    "\n",
    "ob1= CircularLinkedList()\n",
    "ob2= insertion(ob1,1,0)\n",
    "ob2= insertion(ob1,2,0)\n",
    "ob2= insertion(ob1,12,-1)\n",
    "ob2= insertion(ob1,20,-1)\n",
    "ob2= insertion(ob1,1.20,1)\n",
    "ob2= insertion(ob1,1200,3)\n",
    "ob2= insertion(ob1,10,4)\n",
    "ob2= insertion(ob1,420,2)\n",
    "        \n",
    "        "
   ]
  },
  {
   "cell_type": "code",
   "execution_count": 5,
   "id": "3ba2bf6b-1ff5-4a86-a4c6-b62dacf1570c",
   "metadata": {},
   "outputs": [],
   "source": [
    "def search(ob,value):\n",
    "    if ob.head==None:\n",
    "        print(\"No element to find in this list\")\n",
    "    \n",
    "    else:\n",
    "        temp= ob.head\n",
    "        \n",
    "        if temp.value==value:\n",
    "            print(\"The element is found and its value is:\", ob.head.value)\n",
    "            \n",
    "        else:\n",
    "            \n",
    "            while(True):\n",
    "                temp=temp.next\n",
    "                \n",
    "                if temp == ob.head:\n",
    "                    print(\"The value is not found!\")\n",
    "                    break\n",
    "                \n",
    "                if temp.value==value:\n",
    "                    print(\"The element is found and its value is:\", temp.value)\n",
    "                    break\n",
    "        \n",
    "                \n",
    "                \n",
    "                \n",
    "                \n",
    "                    "
   ]
  },
  {
   "cell_type": "code",
   "execution_count": 6,
   "id": "b3853f2f-ed4e-4fb7-88f5-71fbb37bd61e",
   "metadata": {},
   "outputs": [
    {
     "name": "stdout",
     "output_type": "stream",
     "text": [
      "The element is found and its value is: 420\n"
     ]
    }
   ],
   "source": [
    "search(ob1, 420)"
   ]
  },
  {
   "cell_type": "code",
   "execution_count": 7,
   "id": "fbb1e405-e71f-4641-a6b8-f6e0fe73e84d",
   "metadata": {},
   "outputs": [
    {
     "name": "stdout",
     "output_type": "stream",
     "text": [
      "The value is not found!\n"
     ]
    }
   ],
   "source": [
    "search(ob1, 42)"
   ]
  },
  {
   "cell_type": "code",
   "execution_count": 8,
   "id": "92b53582-f163-4f08-aa43-7845ce774849",
   "metadata": {},
   "outputs": [
    {
     "name": "stdout",
     "output_type": "stream",
     "text": [
      "The element is found and its value is: 1.2\n"
     ]
    }
   ],
   "source": [
    "search(ob1, 1.2)"
   ]
  },
  {
   "cell_type": "code",
   "execution_count": 9,
   "id": "052aa577-0384-4da2-9af7-8e56ae38d1ce",
   "metadata": {},
   "outputs": [
    {
     "name": "stdout",
     "output_type": "stream",
     "text": [
      "The element is found and its value is: 1\n"
     ]
    }
   ],
   "source": [
    "search(ob1, 1)"
   ]
  },
  {
   "cell_type": "code",
   "execution_count": null,
   "id": "04b9c13e-0a3a-4d56-9daf-2996cb89103f",
   "metadata": {},
   "outputs": [],
   "source": []
  }
 ],
 "metadata": {
  "kernelspec": {
   "display_name": "Python 3",
   "language": "python",
   "name": "python3"
  },
  "language_info": {
   "codemirror_mode": {
    "name": "ipython",
    "version": 3
   },
   "file_extension": ".py",
   "mimetype": "text/x-python",
   "name": "python",
   "nbconvert_exporter": "python",
   "pygments_lexer": "ipython3",
   "version": "3.8.5"
  }
 },
 "nbformat": 4,
 "nbformat_minor": 5
}
