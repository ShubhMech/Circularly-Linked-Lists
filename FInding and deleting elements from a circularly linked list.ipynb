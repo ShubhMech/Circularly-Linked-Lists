{
 "cells": [
  {
   "cell_type": "code",
   "execution_count": 29,
   "id": "f6754ca8-60ad-4d4f-ae71-ffa446d6e48f",
   "metadata": {},
   "outputs": [],
   "source": [
    "class Nodes:\n",
    "    def __init__(self,value):\n",
    "        self.value= value\n",
    "        self.next=None\n",
    "\n",
    "class CircularLinkedList:\n",
    "    def __init__(self):\n",
    "        self.head=None\n",
    "        self.tail=None\n",
    "        \n",
    "        \n",
    "def insertion(ob,value, pos=-1):\n",
    "    if ob.head==None:\n",
    "        node1=Nodes(value)\n",
    "        ob.head=node1\n",
    "        ob.tail=node1\n",
    "        node1.next=node1\n",
    "        \n",
    "    elif pos==0:\n",
    "        node1=Nodes(value)\n",
    "        node1.next=ob.head.next\n",
    "#         ob.tail.next=node1\n",
    "        ob.head= node1\n",
    "    \n",
    "        \n",
    "    elif pos==-1:\n",
    "        node_0=Nodes(value)\n",
    "        ob.tail.next=node_0\n",
    "        ob.tail=node_0\n",
    "        node_0.next=ob.head\n",
    "#         ob.tail=node_0\n",
    "        \n",
    "    else:\n",
    "        temp=ob.head\n",
    "        i=0\n",
    "        while(i<pos-1):\n",
    "            temp=temp.next\n",
    "            i += 1\n",
    "            \n",
    "        nex_=temp.next\n",
    "        node_mid=Nodes(value)\n",
    "        node_mid.next=nex_\n",
    "        temp.next=node_mid\n",
    "        \n",
    "        \n",
    "\n",
    "ob1= CircularLinkedList()\n",
    "ob2= insertion(ob1,1,0)\n",
    "ob2= insertion(ob1,2,0)\n",
    "ob2= insertion(ob1,12,-1)\n",
    "ob2= insertion(ob1,20,-1)\n",
    "ob2= insertion(ob1,1.20,1)\n",
    "ob2= insertion(ob1,1200,3)\n",
    "ob2= insertion(ob1,10,4)\n",
    "ob2= insertion(ob1,420,2)\n",
    "        \n",
    "        "
   ]
  },
  {
   "cell_type": "code",
   "execution_count": 30,
   "id": "50475283-4a49-40ac-9400-06598a169581",
   "metadata": {},
   "outputs": [],
   "source": [
    "def traversal(ob1):\n",
    "#     temp=ob1.head\n",
    "    if ob1.head==None:\n",
    "        print(\"No elements in the list!\")\n",
    "#     elif: ob1\n",
    "            \n",
    "    else:\n",
    "        print(\"The first node is: \", ob1.head)\n",
    "        print(\"The value at this node is\", ob1.head.value)\n",
    "        temp=ob1.head.next\n",
    "        while(True):\n",
    "            \n",
    "            if temp != ob1.head:\n",
    "                print(\"The next node in the list is: \", temp)\n",
    "                print(\"And the value of the node at given position is: \", temp.value)\n",
    "            \n",
    "            else:\n",
    "                break\n",
    "\n",
    "            \n",
    "            \n",
    "            temp=temp.next"
   ]
  },
  {
   "cell_type": "code",
   "execution_count": 31,
   "id": "1ea739ff-d47d-4aeb-998d-00de0acc3ad4",
   "metadata": {},
   "outputs": [],
   "source": [
    "def delete(ob,value):\n",
    "    if ob.head==None:\n",
    "        print(\"There is nothing to delete!\")\n",
    "    \n",
    "    else:\n",
    "        try:\n",
    "        \n",
    "            if ob.head.value==value:\n",
    "    #             head=ob.head\n",
    "                ob.head=ob.head.next\n",
    "                ob.tail.next=ob.head\n",
    "            else:\n",
    "                temp = ob.head\n",
    "                while(True):\n",
    "                    if temp.next.value==value:\n",
    "                        print(\"Found the node. Deleting now!\")\n",
    "                        temp.next=temp.next.next\n",
    "                        break\n",
    "                    \n",
    "                    elif temp.next.next==ob.head:\n",
    "                        print(\"One complete cycle of the list is over and couldn't find the element!\")\n",
    "                        break\n",
    "                        \n",
    "                    else: temp=temp.next\n",
    "                \n",
    "        except:\n",
    "            print(\"We can't find a node having the same value that has to be deleted.\")\n",
    "            \n",
    "            \n",
    "            \n",
    "            \n",
    "            "
   ]
  },
  {
   "cell_type": "code",
   "execution_count": 32,
   "id": "e15fe9ea-9a87-42c9-b785-9c41d68bc608",
   "metadata": {},
   "outputs": [
    {
     "name": "stdout",
     "output_type": "stream",
     "text": [
      "The first node is:  <__main__.Nodes object at 0x00000252068555B0>\n",
      "The value at this node is 2\n",
      "The next node in the list is:  <__main__.Nodes object at 0x0000025206854DF0>\n",
      "And the value of the node at given position is:  1.2\n",
      "The next node in the list is:  <__main__.Nodes object at 0x0000025206854460>\n",
      "And the value of the node at given position is:  420\n",
      "The next node in the list is:  <__main__.Nodes object at 0x0000025206854E20>\n",
      "And the value of the node at given position is:  1\n",
      "The next node in the list is:  <__main__.Nodes object at 0x0000025206854520>\n",
      "And the value of the node at given position is:  1200\n",
      "The next node in the list is:  <__main__.Nodes object at 0x0000025206854820>\n",
      "And the value of the node at given position is:  10\n",
      "The next node in the list is:  <__main__.Nodes object at 0x0000025206854790>\n",
      "And the value of the node at given position is:  12\n",
      "The next node in the list is:  <__main__.Nodes object at 0x0000025206854970>\n",
      "And the value of the node at given position is:  20\n"
     ]
    }
   ],
   "source": [
    "traversal(ob1)"
   ]
  },
  {
   "cell_type": "code",
   "execution_count": 33,
   "id": "9442af7b-fe56-4d17-a6ff-099e05b35db1",
   "metadata": {},
   "outputs": [
    {
     "name": "stdout",
     "output_type": "stream",
     "text": [
      "One complete cycle of the list is over and couldn't find the element!\n"
     ]
    }
   ],
   "source": [
    "delete(ob1, 4)"
   ]
  },
  {
   "cell_type": "code",
   "execution_count": 34,
   "id": "5dc68a9d-f8e0-4ae2-b570-1762da605f31",
   "metadata": {},
   "outputs": [
    {
     "name": "stdout",
     "output_type": "stream",
     "text": [
      "The first node is:  <__main__.Nodes object at 0x00000252068555B0>\n",
      "The value at this node is 2\n",
      "The next node in the list is:  <__main__.Nodes object at 0x0000025206854DF0>\n",
      "And the value of the node at given position is:  1.2\n",
      "The next node in the list is:  <__main__.Nodes object at 0x0000025206854460>\n",
      "And the value of the node at given position is:  420\n",
      "The next node in the list is:  <__main__.Nodes object at 0x0000025206854E20>\n",
      "And the value of the node at given position is:  1\n",
      "The next node in the list is:  <__main__.Nodes object at 0x0000025206854520>\n",
      "And the value of the node at given position is:  1200\n",
      "The next node in the list is:  <__main__.Nodes object at 0x0000025206854820>\n",
      "And the value of the node at given position is:  10\n",
      "The next node in the list is:  <__main__.Nodes object at 0x0000025206854790>\n",
      "And the value of the node at given position is:  12\n",
      "The next node in the list is:  <__main__.Nodes object at 0x0000025206854970>\n",
      "And the value of the node at given position is:  20\n"
     ]
    }
   ],
   "source": [
    "traversal(ob1)"
   ]
  },
  {
   "cell_type": "code",
   "execution_count": 35,
   "id": "8281875e-0fe0-4231-8f5f-3cebd3fdf9f6",
   "metadata": {},
   "outputs": [
    {
     "name": "stdout",
     "output_type": "stream",
     "text": [
      "Found the node. Deleting now!\n"
     ]
    }
   ],
   "source": [
    "delete(ob1, 1.2)"
   ]
  },
  {
   "cell_type": "code",
   "execution_count": 36,
   "id": "5c862385-9dc7-4f16-a6d8-4446e0a97989",
   "metadata": {},
   "outputs": [
    {
     "name": "stdout",
     "output_type": "stream",
     "text": [
      "The first node is:  <__main__.Nodes object at 0x00000252068555B0>\n",
      "The value at this node is 2\n",
      "The next node in the list is:  <__main__.Nodes object at 0x0000025206854460>\n",
      "And the value of the node at given position is:  420\n",
      "The next node in the list is:  <__main__.Nodes object at 0x0000025206854E20>\n",
      "And the value of the node at given position is:  1\n",
      "The next node in the list is:  <__main__.Nodes object at 0x0000025206854520>\n",
      "And the value of the node at given position is:  1200\n",
      "The next node in the list is:  <__main__.Nodes object at 0x0000025206854820>\n",
      "And the value of the node at given position is:  10\n",
      "The next node in the list is:  <__main__.Nodes object at 0x0000025206854790>\n",
      "And the value of the node at given position is:  12\n",
      "The next node in the list is:  <__main__.Nodes object at 0x0000025206854970>\n",
      "And the value of the node at given position is:  20\n"
     ]
    }
   ],
   "source": [
    "traversal(ob1)"
   ]
  },
  {
   "cell_type": "code",
   "execution_count": 37,
   "id": "0fd0a806-be35-4519-a812-50c304d22578",
   "metadata": {},
   "outputs": [
    {
     "name": "stdout",
     "output_type": "stream",
     "text": [
      "Found the node. Deleting now!\n"
     ]
    }
   ],
   "source": [
    "delete(ob1, 20)"
   ]
  },
  {
   "cell_type": "code",
   "execution_count": 38,
   "id": "e66779d8-b3fb-4a34-a92d-d428367adc7e",
   "metadata": {},
   "outputs": [
    {
     "name": "stdout",
     "output_type": "stream",
     "text": [
      "The first node is:  <__main__.Nodes object at 0x00000252068555B0>\n",
      "The value at this node is 2\n",
      "The next node in the list is:  <__main__.Nodes object at 0x0000025206854460>\n",
      "And the value of the node at given position is:  420\n",
      "The next node in the list is:  <__main__.Nodes object at 0x0000025206854E20>\n",
      "And the value of the node at given position is:  1\n",
      "The next node in the list is:  <__main__.Nodes object at 0x0000025206854520>\n",
      "And the value of the node at given position is:  1200\n",
      "The next node in the list is:  <__main__.Nodes object at 0x0000025206854820>\n",
      "And the value of the node at given position is:  10\n",
      "The next node in the list is:  <__main__.Nodes object at 0x0000025206854790>\n",
      "And the value of the node at given position is:  12\n"
     ]
    }
   ],
   "source": [
    "traversal(ob1)"
   ]
  },
  {
   "cell_type": "code",
   "execution_count": 40,
   "id": "f0af0d68-c220-4b94-8b64-bff668700a78",
   "metadata": {},
   "outputs": [
    {
     "name": "stdout",
     "output_type": "stream",
     "text": [
      "Found the node. Deleting now!\n"
     ]
    }
   ],
   "source": [
    "delete(ob1, 420)"
   ]
  },
  {
   "cell_type": "code",
   "execution_count": 41,
   "id": "fe47e3b2-5dfc-4fdb-a14b-442df4bff343",
   "metadata": {},
   "outputs": [
    {
     "name": "stdout",
     "output_type": "stream",
     "text": [
      "The first node is:  <__main__.Nodes object at 0x00000252068555B0>\n",
      "The value at this node is 2\n",
      "The next node in the list is:  <__main__.Nodes object at 0x0000025206854E20>\n",
      "And the value of the node at given position is:  1\n",
      "The next node in the list is:  <__main__.Nodes object at 0x0000025206854520>\n",
      "And the value of the node at given position is:  1200\n",
      "The next node in the list is:  <__main__.Nodes object at 0x0000025206854820>\n",
      "And the value of the node at given position is:  10\n",
      "The next node in the list is:  <__main__.Nodes object at 0x0000025206854790>\n",
      "And the value of the node at given position is:  12\n"
     ]
    }
   ],
   "source": [
    "traversal(ob1)"
   ]
  },
  {
   "cell_type": "code",
   "execution_count": null,
   "id": "3ab83d5e-5033-4164-9209-e8ea74b0351d",
   "metadata": {},
   "outputs": [],
   "source": []
  }
 ],
 "metadata": {
  "kernelspec": {
   "display_name": "Python 3",
   "language": "python",
   "name": "python3"
  },
  "language_info": {
   "codemirror_mode": {
    "name": "ipython",
    "version": 3
   },
   "file_extension": ".py",
   "mimetype": "text/x-python",
   "name": "python",
   "nbconvert_exporter": "python",
   "pygments_lexer": "ipython3",
   "version": "3.8.5"
  }
 },
 "nbformat": 4,
 "nbformat_minor": 5
}
