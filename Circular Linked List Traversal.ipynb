{
 "cells": [
  {
   "cell_type": "code",
   "execution_count": 2,
   "id": "8e5856c8-8cfd-44a9-b397-5c5160f7b91e",
   "metadata": {},
   "outputs": [],
   "source": [
    "class Nodes:\n",
    "    def __init__(self,value):\n",
    "        self.value= value\n",
    "        self.next=None\n",
    "\n",
    "class CircularLinkedList:\n",
    "    def __init__(self):\n",
    "        self.head=None\n",
    "        self.tail=None\n",
    "        \n",
    "        \n",
    "def insertion(ob,value, pos=-1):\n",
    "    if ob.head==None:\n",
    "        node1=Nodes(value)\n",
    "        ob.head=node1\n",
    "        ob.tail=node1\n",
    "        node1.next=node1\n",
    "        \n",
    "    elif pos==0:\n",
    "        node1=Nodes(value)\n",
    "        node1.next=ob.head.next\n",
    "#         ob.tail.next=node1\n",
    "        ob.head= node1\n",
    "    \n",
    "        \n",
    "    elif pos==-1:\n",
    "        node_0=Nodes(value)\n",
    "        ob.tail.next=node_0\n",
    "        ob.tail=node_0\n",
    "        node_0.next=ob.head\n",
    "#         ob.tail=node_0\n",
    "        \n",
    "    else:\n",
    "        temp=ob.head\n",
    "        i=0\n",
    "        while(i<pos-1):\n",
    "            temp=temp.next\n",
    "            i += 1\n",
    "            \n",
    "        nex_=temp.next\n",
    "        node_mid=Nodes(value)\n",
    "        node_mid.next=nex_\n",
    "        temp.next=node_mid\n",
    "        \n",
    "        \n",
    "        \n",
    "        \n",
    "        "
   ]
  },
  {
   "cell_type": "code",
   "execution_count": 3,
   "id": "0ec65df5-91b2-42ef-803b-ed8d2c6054a2",
   "metadata": {},
   "outputs": [],
   "source": [
    "\n",
    "ob1= CircularLinkedList()\n",
    "ob2= insertion(ob1,1,0)\n",
    "ob2= insertion(ob1,2,0)\n",
    "ob2= insertion(ob1,12,-1)\n",
    "ob2= insertion(ob1,20,-1)\n",
    "ob2= insertion(ob1,1.20,1)\n",
    "ob2= insertion(ob1,1200,3)\n",
    "ob2= insertion(ob1,10,4)\n",
    "ob2= insertion(ob1,420,2)"
   ]
  },
  {
   "cell_type": "code",
   "execution_count": 23,
   "id": "8ec881b0-715d-4750-be16-b624301e1352",
   "metadata": {},
   "outputs": [],
   "source": [
    "def traversal(ob1):\n",
    "#     temp=ob1.head\n",
    "    if ob1.head==None:\n",
    "        print(\"No elements in the list!\")\n",
    "#     elif: ob1\n",
    "            \n",
    "    else:\n",
    "        print(\"The first node is: \", ob1.head)\n",
    "        print(\"The value at this node is\", ob1.head.value)\n",
    "        temp=ob1.head.next\n",
    "        while(True):\n",
    "            \n",
    "            if temp != ob1.head:\n",
    "                print(\"The next node in the list is: \", temp)\n",
    "                print(\"And the value of the node at given position is: \", temp.value)\n",
    "            \n",
    "            else:\n",
    "                break\n",
    "\n",
    "            \n",
    "            \n",
    "            temp=temp.next"
   ]
  },
  {
   "cell_type": "code",
   "execution_count": 24,
   "id": "c5d3dd98-ea47-480e-913c-25059f6b9fae",
   "metadata": {},
   "outputs": [
    {
     "name": "stdout",
     "output_type": "stream",
     "text": [
      "The first node is:  <__main__.Nodes object at 0x00000223A6900700>\n",
      "The value at this node is 2\n",
      "The next node in the list is:  <__main__.Nodes object at 0x00000223A6900400>\n",
      "And the value of the node at given position is:  1.2\n",
      "The next node in the list is:  <__main__.Nodes object at 0x00000223A69003D0>\n",
      "And the value of the node at given position is:  420\n",
      "The next node in the list is:  <__main__.Nodes object at 0x00000223A680C610>\n",
      "And the value of the node at given position is:  1\n",
      "The next node in the list is:  <__main__.Nodes object at 0x00000223A69002B0>\n",
      "And the value of the node at given position is:  1200\n",
      "The next node in the list is:  <__main__.Nodes object at 0x00000223A6900310>\n",
      "And the value of the node at given position is:  10\n",
      "The next node in the list is:  <__main__.Nodes object at 0x00000223A6900BE0>\n",
      "And the value of the node at given position is:  12\n",
      "The next node in the list is:  <__main__.Nodes object at 0x00000223A69005E0>\n",
      "And the value of the node at given position is:  20\n"
     ]
    }
   ],
   "source": [
    "traversal(ob1)"
   ]
  },
  {
   "cell_type": "code",
   "execution_count": null,
   "id": "0e27c832-fae2-45be-92ba-2c0f8e7de12c",
   "metadata": {},
   "outputs": [],
   "source": []
  }
 ],
 "metadata": {
  "kernelspec": {
   "display_name": "Python 3",
   "language": "python",
   "name": "python3"
  },
  "language_info": {
   "codemirror_mode": {
    "name": "ipython",
    "version": 3
   },
   "file_extension": ".py",
   "mimetype": "text/x-python",
   "name": "python",
   "nbconvert_exporter": "python",
   "pygments_lexer": "ipython3",
   "version": "3.8.5"
  }
 },
 "nbformat": 4,
 "nbformat_minor": 5
}
