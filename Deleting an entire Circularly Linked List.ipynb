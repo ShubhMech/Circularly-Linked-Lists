{
 "cells": [
  {
   "cell_type": "code",
   "execution_count": 13,
   "id": "545f6df2-9aa0-4467-b6d6-4a0df0a28157",
   "metadata": {},
   "outputs": [],
   "source": [
    "class Nodes:\n",
    "    def __init__(self,value):\n",
    "        self.value= value\n",
    "        self.next=None\n",
    "\n",
    "class CircularLinkedList:\n",
    "    def __init__(self):\n",
    "        self.head=None\n",
    "        self.tail=None\n",
    "        \n",
    "        \n",
    "def insertion(ob,value, pos=-1):\n",
    "    if ob.head==None:\n",
    "        node1=Nodes(value)\n",
    "        ob.head=node1\n",
    "        ob.tail=node1\n",
    "        node1.next=node1\n",
    "        \n",
    "    elif pos==0:\n",
    "        node1=Nodes(value)\n",
    "        node1.next=ob.head.next\n",
    "#         ob.tail.next=node1\n",
    "        ob.head= node1\n",
    "    \n",
    "        \n",
    "    elif pos==-1:\n",
    "        node_0=Nodes(value)\n",
    "        ob.tail.next=node_0\n",
    "        ob.tail=node_0\n",
    "        node_0.next=ob.head\n",
    "#         ob.tail=node_0\n",
    "        \n",
    "    else:\n",
    "        temp=ob.head\n",
    "        i=0\n",
    "        while(i<pos-1):\n",
    "            temp=temp.next\n",
    "            i += 1\n",
    "            \n",
    "        nex_=temp.next\n",
    "        node_mid=Nodes(value)\n",
    "        node_mid.next=nex_\n",
    "        temp.next=node_mid\n",
    "        \n",
    "        \n",
    "\n",
    "ob1= CircularLinkedList()\n",
    "ob2= insertion(ob1,1,0)\n",
    "ob2= insertion(ob1,2,0)\n",
    "ob2= insertion(ob1,12,-1)\n",
    "ob2= insertion(ob1,20,-1)\n",
    "ob2= insertion(ob1,1.20,1)\n",
    "ob2= insertion(ob1,1200,3)\n",
    "ob2= insertion(ob1,10,4)\n",
    "ob2= insertion(ob1,420,2)\n",
    "        \n",
    "        "
   ]
  },
  {
   "cell_type": "markdown",
   "id": "b2fa61a1-1d62-4618-93d0-b6a8831c6571",
   "metadata": {},
   "source": [
    "### Deleting an entire circularly linked list"
   ]
  },
  {
   "cell_type": "code",
   "execution_count": 14,
   "id": "0132b774-e099-4b48-9321-f6db31ec76ee",
   "metadata": {},
   "outputs": [
    {
     "data": {
      "text/plain": [
       "<__main__.Nodes at 0x16138155820>"
      ]
     },
     "execution_count": 14,
     "metadata": {},
     "output_type": "execute_result"
    }
   ],
   "source": [
    "ob1.tail"
   ]
  },
  {
   "cell_type": "code",
   "execution_count": 15,
   "id": "d9c94c4b-ce0a-4c25-b127-6760e31927c7",
   "metadata": {},
   "outputs": [
    {
     "data": {
      "text/plain": [
       "<__main__.Nodes at 0x161381566d0>"
      ]
     },
     "execution_count": 15,
     "metadata": {},
     "output_type": "execute_result"
    }
   ],
   "source": [
    "ob1.head"
   ]
  },
  {
   "cell_type": "code",
   "execution_count": 16,
   "id": "7cf89315-455c-4a36-9c53-5c3ac5b93a92",
   "metadata": {},
   "outputs": [
    {
     "data": {
      "text/plain": [
       "<__main__.Nodes at 0x161381566d0>"
      ]
     },
     "execution_count": 16,
     "metadata": {},
     "output_type": "execute_result"
    }
   ],
   "source": [
    "ob1.tail.next"
   ]
  },
  {
   "cell_type": "markdown",
   "id": "8d24a9b7-7ef2-4827-8f31-4e69f2dce486",
   "metadata": {},
   "source": [
    "### Setting all these references to Null"
   ]
  },
  {
   "cell_type": "code",
   "execution_count": 17,
   "id": "9e5d01d9-d514-4630-b889-f7669ef896d9",
   "metadata": {},
   "outputs": [],
   "source": [
    "ob1.head=None\n",
    "ob1.tail.next=None\n",
    "ob1.tail=None"
   ]
  },
  {
   "cell_type": "markdown",
   "id": "3e07f1a5-9e52-4436-bae5-6530ff1b700a",
   "metadata": {},
   "source": [
    "Now traversing the list"
   ]
  },
  {
   "cell_type": "code",
   "execution_count": 18,
   "id": "2144ab17-c5b8-43c2-9433-8c59c75c603f",
   "metadata": {},
   "outputs": [],
   "source": [
    "def traversal(ob1):\n",
    "#     temp=ob1.head\n",
    "    if ob1.head==None:\n",
    "        print(\"No elements in the list!\")\n",
    "#     elif: ob1\n",
    "            \n",
    "    else:\n",
    "        print(\"The first node is: \", ob1.head)\n",
    "        print(\"The value at this node is\", ob1.head.value)\n",
    "        temp=ob1.head.next\n",
    "        while(True):\n",
    "            \n",
    "            if temp != ob1.head:\n",
    "                print(\"The next node in the list is: \", temp)\n",
    "                print(\"And the value of the node at given position is: \", temp.value)\n",
    "            \n",
    "            else:\n",
    "                break\n",
    "\n",
    "            \n",
    "            \n",
    "            temp=temp.next"
   ]
  },
  {
   "cell_type": "code",
   "execution_count": 19,
   "id": "de1af12e-8cc9-404c-a5a2-aeb6496301d1",
   "metadata": {},
   "outputs": [
    {
     "name": "stdout",
     "output_type": "stream",
     "text": [
      "No elements in the list!\n"
     ]
    }
   ],
   "source": [
    "traversal(ob1)"
   ]
  },
  {
   "cell_type": "code",
   "execution_count": null,
   "id": "86b18871-19b5-44fb-b98e-9c0bc77ec24b",
   "metadata": {},
   "outputs": [],
   "source": []
  }
 ],
 "metadata": {
  "kernelspec": {
   "display_name": "Python 3",
   "language": "python",
   "name": "python3"
  },
  "language_info": {
   "codemirror_mode": {
    "name": "ipython",
    "version": 3
   },
   "file_extension": ".py",
   "mimetype": "text/x-python",
   "name": "python",
   "nbconvert_exporter": "python",
   "pygments_lexer": "ipython3",
   "version": "3.8.5"
  }
 },
 "nbformat": 4,
 "nbformat_minor": 5
}
